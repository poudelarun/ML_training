{
 "cells": [
  {
   "cell_type": "code",
   "execution_count": 1,
   "id": "6e158178",
   "metadata": {},
   "outputs": [],
   "source": [
    "import streamlit as st\n",
    "import pandas as pd\n",
    "import pickle"
   ]
  },
  {
   "cell_type": "code",
   "execution_count": 2,
   "id": "5235525d",
   "metadata": {},
   "outputs": [
    {
     "name": "stderr",
     "output_type": "stream",
     "text": [
      "2024-03-30 19:52:14.026 \n",
      "  \u001b[33m\u001b[1mWarning:\u001b[0m to view this Streamlit app on a browser, run it with the following\n",
      "  command:\n",
      "\n",
      "    streamlit run /Users/arun/anaconda3/lib/python3.11/site-packages/ipykernel_launcher.py [ARGUMENTS]\n"
     ]
    }
   ],
   "source": [
    "# Load the trained model\n",
    "with open(\"model.pkl\", \"rb\") as f:\n",
    "    model = pickle.load(f)\n",
    "\n",
    "# Load the label encoder\n",
    "with open(\"label_encoder.pkl\", \"rb\") as f:\n",
    "    label_encoder = pickle.load(f)\n",
    "\n",
    "# Function to predict hepatitis based on user inputs\n",
    "def predict_hepatitis(age, sex, alb, alp, alt, ast, bil, che, chol, crea, ggt, prot):\n",
    "    # Create a DataFrame from user inputs\n",
    "    input_data = pd.DataFrame({\n",
    "        \"Age\": [age],\n",
    "        \"Sex\": [sex],\n",
    "        \"ALB\": [alb],\n",
    "        \"ALP\": [alp],\n",
    "        \"ALT\": [alt],\n",
    "        \"AST\": [ast],\n",
    "        \"BIL\": [bil],\n",
    "        \"CHE\": [che],\n",
    "        \"CHOL\": [chol],\n",
    "        \"CREA\": [crea],\n",
    "        \"GGT\": [ggt],\n",
    "        \"PROT\": [prot]\n",
    "    })\n",
    "\n",
    "    # Make prediction using the loaded model\n",
    "    prediction = model.predict(input_data)\n",
    "    prediction_label = label_encoder.inverse_transform(prediction)[0]\n",
    "    return prediction_label\n",
    "\n",
    "# Streamlit app starts here\n",
    "def main():\n",
    "    st.title(\"Hepatitis Detection\")\n",
    "\n",
    "    # Sidebar inputs\n",
    "    age = st.sidebar.number_input(\"Age\", min_value=0, max_value=100, value=25)\n",
    "    sex = st.sidebar.selectbox(\"Sex\", [\"Male\", \"Female\"])\n",
    "    alb = st.sidebar.number_input(\"ALB\")\n",
    "    alp = st.sidebar.number_input(\"ALP\")\n",
    "    alt = st.sidebar.number_input(\"ALT\")\n",
    "    ast = st.sidebar.number_input(\"AST\")\n",
    "    bil = st.sidebar.number_input(\"BIL\")\n",
    "    che = st.sidebar.number_input(\"CHE\")\n",
    "    chol = st.sidebar.number_input(\"CHOL\")\n",
    "    crea = st.sidebar.number_input(\"CREA\")\n",
    "    ggt = st.sidebar.number_input(\"GGT\")\n",
    "    prot = st.sidebar.number_input(\"PROT\")\n",
    "\n",
    "    # Predict button\n",
    "    if st.sidebar.button(\"Predict\"):\n",
    "        # Convert categorical inputs to numerical\n",
    "        sex = 1 if sex == \"Male\" else 2\n",
    "\n",
    "        # Get prediction\n",
    "        result = predict_hepatitis(age, sex, alb, alp, alt, ast, bil, che, chol, crea, ggt, prot)\n",
    "        st.write(f\"Prediction: {result}\")\n",
    "\n",
    "if __name__ == \"__main__\":\n",
    "    main()\n"
   ]
  },
  {
   "cell_type": "code",
   "execution_count": null,
   "id": "e0b004da",
   "metadata": {},
   "outputs": [],
   "source": []
  }
 ],
 "metadata": {
  "kernelspec": {
   "display_name": "Python 3 (ipykernel)",
   "language": "python",
   "name": "python3"
  },
  "language_info": {
   "codemirror_mode": {
    "name": "ipython",
    "version": 3
   },
   "file_extension": ".py",
   "mimetype": "text/x-python",
   "name": "python",
   "nbconvert_exporter": "python",
   "pygments_lexer": "ipython3",
   "version": "3.11.5"
  }
 },
 "nbformat": 4,
 "nbformat_minor": 5
}
