{
 "cells": [
  {
   "cell_type": "code",
   "execution_count": 1,
   "id": "881e7627",
   "metadata": {},
   "outputs": [],
   "source": [
    "import pandas as pd"
   ]
  },
  {
   "cell_type": "code",
   "execution_count": 2,
   "id": "274b28cc",
   "metadata": {},
   "outputs": [],
   "source": [
    "import numpy as np"
   ]
  },
  {
   "cell_type": "code",
   "execution_count": 15,
   "id": "f9d7753f",
   "metadata": {},
   "outputs": [],
   "source": [
    "train_data= pd.read_excel('crop yield data sheet.xlsx')"
   ]
  },
  {
   "cell_type": "code",
   "execution_count": 6,
   "id": "76dd8274",
   "metadata": {},
   "outputs": [],
   "source": [
    "import matplotlib.pyplot as plt"
   ]
  },
  {
   "cell_type": "code",
   "execution_count": 17,
   "id": "34401e3c",
   "metadata": {},
   "outputs": [
    {
     "data": {
      "text/html": [
       "<div>\n",
       "<style scoped>\n",
       "    .dataframe tbody tr th:only-of-type {\n",
       "        vertical-align: middle;\n",
       "    }\n",
       "\n",
       "    .dataframe tbody tr th {\n",
       "        vertical-align: top;\n",
       "    }\n",
       "\n",
       "    .dataframe thead th {\n",
       "        text-align: right;\n",
       "    }\n",
       "</style>\n",
       "<table border=\"1\" class=\"dataframe\">\n",
       "  <thead>\n",
       "    <tr style=\"text-align: right;\">\n",
       "      <th></th>\n",
       "      <th>Rain Fall (mm)</th>\n",
       "      <th>Fertilizer</th>\n",
       "      <th>Temperatue</th>\n",
       "      <th>Nitrogen (N)</th>\n",
       "      <th>Phosphorus (P)</th>\n",
       "      <th>Potassium (K)</th>\n",
       "      <th>Yeild (Q/acre)</th>\n",
       "    </tr>\n",
       "  </thead>\n",
       "  <tbody>\n",
       "    <tr>\n",
       "      <th>104</th>\n",
       "      <td>NaN</td>\n",
       "      <td>NaN</td>\n",
       "      <td>NaN</td>\n",
       "      <td>NaN</td>\n",
       "      <td>NaN</td>\n",
       "      <td>NaN</td>\n",
       "      <td>NaN</td>\n",
       "    </tr>\n",
       "    <tr>\n",
       "      <th>105</th>\n",
       "      <td>NaN</td>\n",
       "      <td>NaN</td>\n",
       "      <td>NaN</td>\n",
       "      <td>NaN</td>\n",
       "      <td>NaN</td>\n",
       "      <td>NaN</td>\n",
       "      <td>NaN</td>\n",
       "    </tr>\n",
       "    <tr>\n",
       "      <th>106</th>\n",
       "      <td>NaN</td>\n",
       "      <td>NaN</td>\n",
       "      <td>NaN</td>\n",
       "      <td>NaN</td>\n",
       "      <td>NaN</td>\n",
       "      <td>NaN</td>\n",
       "      <td>NaN</td>\n",
       "    </tr>\n",
       "    <tr>\n",
       "      <th>107</th>\n",
       "      <td>NaN</td>\n",
       "      <td>NaN</td>\n",
       "      <td>NaN</td>\n",
       "      <td>NaN</td>\n",
       "      <td>NaN</td>\n",
       "      <td>NaN</td>\n",
       "      <td>NaN</td>\n",
       "    </tr>\n",
       "    <tr>\n",
       "      <th>108</th>\n",
       "      <td>NaN</td>\n",
       "      <td>NaN</td>\n",
       "      <td>:</td>\n",
       "      <td>NaN</td>\n",
       "      <td>NaN</td>\n",
       "      <td>NaN</td>\n",
       "      <td>NaN</td>\n",
       "    </tr>\n",
       "  </tbody>\n",
       "</table>\n",
       "</div>"
      ],
      "text/plain": [
       "     Rain Fall (mm)  Fertilizer Temperatue  Nitrogen (N)  Phosphorus (P)  \\\n",
       "104             NaN         NaN        NaN           NaN             NaN   \n",
       "105             NaN         NaN        NaN           NaN             NaN   \n",
       "106             NaN         NaN        NaN           NaN             NaN   \n",
       "107             NaN         NaN        NaN           NaN             NaN   \n",
       "108             NaN         NaN          :           NaN             NaN   \n",
       "\n",
       "     Potassium (K)  Yeild (Q/acre)  \n",
       "104            NaN             NaN  \n",
       "105            NaN             NaN  \n",
       "106            NaN             NaN  \n",
       "107            NaN             NaN  \n",
       "108            NaN             NaN  "
      ]
     },
     "execution_count": 17,
     "metadata": {},
     "output_type": "execute_result"
    }
   ],
   "source": [
    "train_data.tail()"
   ]
  },
  {
   "cell_type": "code",
   "execution_count": 16,
   "id": "244bcccf",
   "metadata": {},
   "outputs": [
    {
     "data": {
      "text/html": [
       "<div>\n",
       "<style scoped>\n",
       "    .dataframe tbody tr th:only-of-type {\n",
       "        vertical-align: middle;\n",
       "    }\n",
       "\n",
       "    .dataframe tbody tr th {\n",
       "        vertical-align: top;\n",
       "    }\n",
       "\n",
       "    .dataframe thead th {\n",
       "        text-align: right;\n",
       "    }\n",
       "</style>\n",
       "<table border=\"1\" class=\"dataframe\">\n",
       "  <thead>\n",
       "    <tr style=\"text-align: right;\">\n",
       "      <th></th>\n",
       "      <th>Rain Fall (mm)</th>\n",
       "      <th>Fertilizer</th>\n",
       "      <th>Temperatue</th>\n",
       "      <th>Nitrogen (N)</th>\n",
       "      <th>Phosphorus (P)</th>\n",
       "      <th>Potassium (K)</th>\n",
       "      <th>Yeild (Q/acre)</th>\n",
       "    </tr>\n",
       "  </thead>\n",
       "  <tbody>\n",
       "    <tr>\n",
       "      <th>0</th>\n",
       "      <td>1230.0</td>\n",
       "      <td>80.0</td>\n",
       "      <td>28</td>\n",
       "      <td>80.0</td>\n",
       "      <td>24.0</td>\n",
       "      <td>20.0</td>\n",
       "      <td>12.0</td>\n",
       "    </tr>\n",
       "    <tr>\n",
       "      <th>1</th>\n",
       "      <td>480.0</td>\n",
       "      <td>60.0</td>\n",
       "      <td>36</td>\n",
       "      <td>70.0</td>\n",
       "      <td>20.0</td>\n",
       "      <td>18.0</td>\n",
       "      <td>8.0</td>\n",
       "    </tr>\n",
       "    <tr>\n",
       "      <th>2</th>\n",
       "      <td>1250.0</td>\n",
       "      <td>75.0</td>\n",
       "      <td>29</td>\n",
       "      <td>78.0</td>\n",
       "      <td>22.0</td>\n",
       "      <td>19.0</td>\n",
       "      <td>11.0</td>\n",
       "    </tr>\n",
       "    <tr>\n",
       "      <th>3</th>\n",
       "      <td>450.0</td>\n",
       "      <td>65.0</td>\n",
       "      <td>35</td>\n",
       "      <td>70.0</td>\n",
       "      <td>19.0</td>\n",
       "      <td>18.0</td>\n",
       "      <td>9.0</td>\n",
       "    </tr>\n",
       "    <tr>\n",
       "      <th>4</th>\n",
       "      <td>1200.0</td>\n",
       "      <td>80.0</td>\n",
       "      <td>27</td>\n",
       "      <td>79.0</td>\n",
       "      <td>22.0</td>\n",
       "      <td>19.0</td>\n",
       "      <td>11.0</td>\n",
       "    </tr>\n",
       "  </tbody>\n",
       "</table>\n",
       "</div>"
      ],
      "text/plain": [
       "   Rain Fall (mm)  Fertilizer Temperatue  Nitrogen (N)  Phosphorus (P)  \\\n",
       "0          1230.0        80.0         28          80.0            24.0   \n",
       "1           480.0        60.0         36          70.0            20.0   \n",
       "2          1250.0        75.0         29          78.0            22.0   \n",
       "3           450.0        65.0         35          70.0            19.0   \n",
       "4          1200.0        80.0         27          79.0            22.0   \n",
       "\n",
       "   Potassium (K)  Yeild (Q/acre)  \n",
       "0           20.0            12.0  \n",
       "1           18.0             8.0  \n",
       "2           19.0            11.0  \n",
       "3           18.0             9.0  \n",
       "4           19.0            11.0  "
      ]
     },
     "execution_count": 16,
     "metadata": {},
     "output_type": "execute_result"
    }
   ],
   "source": [
    "train_data.head()"
   ]
  },
  {
   "cell_type": "code",
   "execution_count": 25,
   "id": "c0f9b4e0",
   "metadata": {},
   "outputs": [],
   "source": [
    "import seaborn as sns"
   ]
  },
  {
   "cell_type": "code",
   "execution_count": 18,
   "id": "0e5fbb7a",
   "metadata": {},
   "outputs": [
    {
     "data": {
      "text/html": [
       "<div>\n",
       "<style scoped>\n",
       "    .dataframe tbody tr th:only-of-type {\n",
       "        vertical-align: middle;\n",
       "    }\n",
       "\n",
       "    .dataframe tbody tr th {\n",
       "        vertical-align: top;\n",
       "    }\n",
       "\n",
       "    .dataframe thead th {\n",
       "        text-align: right;\n",
       "    }\n",
       "</style>\n",
       "<table border=\"1\" class=\"dataframe\">\n",
       "  <thead>\n",
       "    <tr style=\"text-align: right;\">\n",
       "      <th></th>\n",
       "      <th>Rain Fall (mm)</th>\n",
       "      <th>Fertilizer</th>\n",
       "      <th>Nitrogen (N)</th>\n",
       "      <th>Phosphorus (P)</th>\n",
       "      <th>Potassium (K)</th>\n",
       "      <th>Yeild (Q/acre)</th>\n",
       "    </tr>\n",
       "  </thead>\n",
       "  <tbody>\n",
       "    <tr>\n",
       "      <th>count</th>\n",
       "      <td>99.000000</td>\n",
       "      <td>99.000000</td>\n",
       "      <td>99.000000</td>\n",
       "      <td>99.000000</td>\n",
       "      <td>99.000000</td>\n",
       "      <td>99.000000</td>\n",
       "    </tr>\n",
       "    <tr>\n",
       "      <th>mean</th>\n",
       "      <td>849.797980</td>\n",
       "      <td>67.808081</td>\n",
       "      <td>70.737374</td>\n",
       "      <td>21.131313</td>\n",
       "      <td>18.060606</td>\n",
       "      <td>9.050505</td>\n",
       "    </tr>\n",
       "    <tr>\n",
       "      <th>std</th>\n",
       "      <td>400.042676</td>\n",
       "      <td>10.028202</td>\n",
       "      <td>6.677079</td>\n",
       "      <td>1.951695</td>\n",
       "      <td>1.817254</td>\n",
       "      <td>1.965902</td>\n",
       "    </tr>\n",
       "    <tr>\n",
       "      <th>min</th>\n",
       "      <td>400.000000</td>\n",
       "      <td>50.000000</td>\n",
       "      <td>59.000000</td>\n",
       "      <td>18.000000</td>\n",
       "      <td>15.000000</td>\n",
       "      <td>5.500000</td>\n",
       "    </tr>\n",
       "    <tr>\n",
       "      <th>25%</th>\n",
       "      <td>450.000000</td>\n",
       "      <td>60.000000</td>\n",
       "      <td>65.000000</td>\n",
       "      <td>19.500000</td>\n",
       "      <td>16.000000</td>\n",
       "      <td>7.000000</td>\n",
       "    </tr>\n",
       "    <tr>\n",
       "      <th>50%</th>\n",
       "      <td>1150.000000</td>\n",
       "      <td>70.000000</td>\n",
       "      <td>71.000000</td>\n",
       "      <td>21.000000</td>\n",
       "      <td>19.000000</td>\n",
       "      <td>9.000000</td>\n",
       "    </tr>\n",
       "    <tr>\n",
       "      <th>75%</th>\n",
       "      <td>1237.500000</td>\n",
       "      <td>77.000000</td>\n",
       "      <td>77.000000</td>\n",
       "      <td>23.000000</td>\n",
       "      <td>19.000000</td>\n",
       "      <td>11.000000</td>\n",
       "    </tr>\n",
       "    <tr>\n",
       "      <th>max</th>\n",
       "      <td>1300.000000</td>\n",
       "      <td>80.000000</td>\n",
       "      <td>80.000000</td>\n",
       "      <td>25.000000</td>\n",
       "      <td>22.000000</td>\n",
       "      <td>12.000000</td>\n",
       "    </tr>\n",
       "  </tbody>\n",
       "</table>\n",
       "</div>"
      ],
      "text/plain": [
       "       Rain Fall (mm)  Fertilizer  Nitrogen (N)  Phosphorus (P)  \\\n",
       "count       99.000000   99.000000     99.000000       99.000000   \n",
       "mean       849.797980   67.808081     70.737374       21.131313   \n",
       "std        400.042676   10.028202      6.677079        1.951695   \n",
       "min        400.000000   50.000000     59.000000       18.000000   \n",
       "25%        450.000000   60.000000     65.000000       19.500000   \n",
       "50%       1150.000000   70.000000     71.000000       21.000000   \n",
       "75%       1237.500000   77.000000     77.000000       23.000000   \n",
       "max       1300.000000   80.000000     80.000000       25.000000   \n",
       "\n",
       "       Potassium (K)  Yeild (Q/acre)  \n",
       "count      99.000000       99.000000  \n",
       "mean       18.060606        9.050505  \n",
       "std         1.817254        1.965902  \n",
       "min        15.000000        5.500000  \n",
       "25%        16.000000        7.000000  \n",
       "50%        19.000000        9.000000  \n",
       "75%        19.000000       11.000000  \n",
       "max        22.000000       12.000000  "
      ]
     },
     "execution_count": 18,
     "metadata": {},
     "output_type": "execute_result"
    }
   ],
   "source": [
    "train_data.describe()"
   ]
  },
  {
   "cell_type": "code",
   "execution_count": 22,
   "id": "43b6e495",
   "metadata": {},
   "outputs": [
    {
     "data": {
      "text/plain": [
       "Rain Fall (mm)    0\n",
       "Fertilizer        0\n",
       "Temperatue        0\n",
       "Nitrogen (N)      0\n",
       "Phosphorus (P)    0\n",
       "Potassium (K)     0\n",
       "Yeild (Q/acre)    0\n",
       "dtype: int64"
      ]
     },
     "execution_count": 22,
     "metadata": {},
     "output_type": "execute_result"
    }
   ],
   "source": [
    "nan_count =train_data.isnull().sum(axis=0)\n",
    "nan_count"
   ]
  },
  {
   "cell_type": "code",
   "execution_count": 23,
   "id": "bac694d4",
   "metadata": {},
   "outputs": [],
   "source": [
    "train_data=train_data.dropna()"
   ]
  },
  {
   "cell_type": "code",
   "execution_count": 24,
   "id": "197da75c",
   "metadata": {},
   "outputs": [
    {
     "data": {
      "text/html": [
       "<div>\n",
       "<style scoped>\n",
       "    .dataframe tbody tr th:only-of-type {\n",
       "        vertical-align: middle;\n",
       "    }\n",
       "\n",
       "    .dataframe tbody tr th {\n",
       "        vertical-align: top;\n",
       "    }\n",
       "\n",
       "    .dataframe thead th {\n",
       "        text-align: right;\n",
       "    }\n",
       "</style>\n",
       "<table border=\"1\" class=\"dataframe\">\n",
       "  <thead>\n",
       "    <tr style=\"text-align: right;\">\n",
       "      <th></th>\n",
       "      <th>Rain Fall (mm)</th>\n",
       "      <th>Fertilizer</th>\n",
       "      <th>Temperatue</th>\n",
       "      <th>Nitrogen (N)</th>\n",
       "      <th>Phosphorus (P)</th>\n",
       "      <th>Potassium (K)</th>\n",
       "      <th>Yeild (Q/acre)</th>\n",
       "    </tr>\n",
       "  </thead>\n",
       "  <tbody>\n",
       "    <tr>\n",
       "      <th>94</th>\n",
       "      <td>1250.0</td>\n",
       "      <td>77.0</td>\n",
       "      <td>28</td>\n",
       "      <td>78.0</td>\n",
       "      <td>23.0</td>\n",
       "      <td>20.0</td>\n",
       "      <td>9.0</td>\n",
       "    </tr>\n",
       "    <tr>\n",
       "      <th>95</th>\n",
       "      <td>425.0</td>\n",
       "      <td>60.0</td>\n",
       "      <td>39</td>\n",
       "      <td>65.0</td>\n",
       "      <td>19.0</td>\n",
       "      <td>17.0</td>\n",
       "      <td>6.5</td>\n",
       "    </tr>\n",
       "    <tr>\n",
       "      <th>96</th>\n",
       "      <td>1220.0</td>\n",
       "      <td>79.0</td>\n",
       "      <td>28</td>\n",
       "      <td>77.0</td>\n",
       "      <td>23.0</td>\n",
       "      <td>21.0</td>\n",
       "      <td>10.5</td>\n",
       "    </tr>\n",
       "    <tr>\n",
       "      <th>97</th>\n",
       "      <td>480.0</td>\n",
       "      <td>65.0</td>\n",
       "      <td>36</td>\n",
       "      <td>68.0</td>\n",
       "      <td>21.0</td>\n",
       "      <td>16.0</td>\n",
       "      <td>7.0</td>\n",
       "    </tr>\n",
       "    <tr>\n",
       "      <th>98</th>\n",
       "      <td>1230.0</td>\n",
       "      <td>80.0</td>\n",
       "      <td>28</td>\n",
       "      <td>80.0</td>\n",
       "      <td>24.0</td>\n",
       "      <td>20.0</td>\n",
       "      <td>12.0</td>\n",
       "    </tr>\n",
       "  </tbody>\n",
       "</table>\n",
       "</div>"
      ],
      "text/plain": [
       "    Rain Fall (mm)  Fertilizer Temperatue  Nitrogen (N)  Phosphorus (P)  \\\n",
       "94          1250.0        77.0         28          78.0            23.0   \n",
       "95           425.0        60.0         39          65.0            19.0   \n",
       "96          1220.0        79.0         28          77.0            23.0   \n",
       "97           480.0        65.0         36          68.0            21.0   \n",
       "98          1230.0        80.0         28          80.0            24.0   \n",
       "\n",
       "    Potassium (K)  Yeild (Q/acre)  \n",
       "94           20.0             9.0  \n",
       "95           17.0             6.5  \n",
       "96           21.0            10.5  \n",
       "97           16.0             7.0  \n",
       "98           20.0            12.0  "
      ]
     },
     "execution_count": 24,
     "metadata": {},
     "output_type": "execute_result"
    }
   ],
   "source": [
    "train_data.tail()"
   ]
  },
  {
   "cell_type": "raw",
   "id": "b968e5be",
   "metadata": {},
   "source": []
  },
  {
   "cell_type": "code",
   "execution_count": 31,
   "id": "1e911b04",
   "metadata": {},
   "outputs": [
    {
     "data": {
      "image/png": "[encoded data removed]",
      "text/plain": [
       "<Figure size 800x600 with 1 Axes>"
      ]
     },
     "metadata": {},
     "output_type": "display_data"
    }
   ],
   "source": [
    "plt.figure(figsize=(8,6))\n",
    "sns.heatmap(train_data.isnull(),cbar=False,cmap=\"binary_r\")\n",
    "plt.show()           "
   ]
  },
  {
   "cell_type": "code",
   "execution_count": 35,
   "id": "90ce5c25",
   "metadata": {},
   "outputs": [
    {
     "data": {
      "image/png": "[encoded data removed]",
      "text/plain": [
       "<Figure size 640x480 with 1 Axes>"
      ]
     },
     "metadata": {},
     "output_type": "display_data"
    }
   ],
   "source": [
    "plt.scatter(train_data['Rain Fall (mm)'], train_data['Yeild (Q/acre)'])\n",
    "plt.title('Scatter plot')\n",
    "plt.xlabel('x')\n",
    "plt.ylabel('y')\n",
    "plt.show()"
   ]
  },
  {
   "cell_type": "code",
   "execution_count": 38,
   "id": "e64f11d3",
   "metadata": {},
   "outputs": [
    {
     "ename": "TypeError",
     "evalue": "can't multiply sequence by non-int of type 'function'",
     "output_type": "error",
     "traceback": [
      "\u001b[0;31m---------------------------------------------------------------------------\u001b[0m",
      "\u001b[0;31mTypeError\u001b[0m                                 Traceback (most recent call last)",
      "Cell \u001b[0;32mIn[38], line 3\u001b[0m\n\u001b[1;32m      1\u001b[0m plt\u001b[38;5;241m.\u001b[39mboxplot(train_data[\u001b[38;5;124m\"\u001b[39m\u001b[38;5;124mTemperatue\u001b[39m\u001b[38;5;124m\"\u001b[39m])\n\u001b[1;32m      2\u001b[0m plt\u001b[38;5;241m.\u001b[39mtitle(\u001b[38;5;124m'\u001b[39m\u001b[38;5;124mBox Plot\u001b[39m\u001b[38;5;124m'\u001b[39m)\n\u001b[0;32m----> 3\u001b[0m plt\u001b[38;5;241m.\u001b[39mshow\u001b[38;5;241m*\u001b[39m()\n",
      "\u001b[0;31mTypeError\u001b[0m: can't multiply sequence by non-int of type 'function'"
     ]
    },
    {
     "data": {
      "image/png": "[encoded data removed]",
      "text/plain": [
       "<Figure size 640x480 with 1 Axes>"
      ]
     },
     "metadata": {},
     "output_type": "display_data"
    }
   ],
   "source": [
    "plt.boxplot(train_data[\"Temperatue\"])\n",
    "plt.title('Box Plot')\n",
    "plt.show*()"
   ]
  },
  {
   "cell_type": "code",
   "execution_count": null,
   "id": "ca649d57",
   "metadata": {},
   "outputs": [],
   "source": []
  }
 ],
 "metadata": {
  "kernelspec": {
   "display_name": "Python 3 (ipykernel)",
   "language": "python",
   "name": "python3"
  },
  "language_info": {
   "codemirror_mode": {
    "name": "ipython",
    "version": 3
   },
   "file_extension": ".py",
   "mimetype": "text/x-python",
   "name": "python",
   "nbconvert_exporter": "python",
   "pygments_lexer": "ipython3",
   "version": "3.11.5"
  }
 },
 "nbformat": 4,
 "nbformat_minor": 5
}
